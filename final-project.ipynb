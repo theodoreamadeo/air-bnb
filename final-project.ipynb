{
 "cells": [
  {
   "cell_type": "markdown",
   "metadata": {},
   "source": [
    "# **CB0494: Introduction to Data Science and Artificial Intelligence Mini Project**"
   ]
  },
  {
   "cell_type": "markdown",
   "metadata": {},
   "source": [
    "**Group Member:**\n",
    "1. Keanu Ocvian Budiman (U2320203B)\n",
    "2. Lwa Hong Long (U2321125H)\n",
    "---"
   ]
  },
  {
   "cell_type": "markdown",
   "metadata": {},
   "source": [
    "## **A. Problem Introduction**\n",
    "- **Title:**   \n",
    "Airbnb Recommendation System in Milan\n",
    "- **Objective:**   \n",
    "In \n",
    "- **Motivation:**   \n",
    "\n",
    "- **Research Questions:**   \n",
    "1. \n"
   ]
  },
  {
   "cell_type": "markdown",
   "metadata": {},
   "source": [
    "## **B. Data Preparation**"
   ]
  },
  {
   "cell_type": "markdown",
   "metadata": {},
   "source": [
    "### *1. Explore the dataset*"
   ]
  },
  {
   "cell_type": "code",
   "execution_count": 2,
   "metadata": {},
   "outputs": [],
   "source": [
    "import pandas as pd \n",
    "import numpy as np\n",
    "import matplotlib.pyplot as plt\n",
    "import seaborn as sb\n",
    "sb.set()\n",
    "\n",
    "import warnings\n",
    "warnings.filterwarnings('ignore')"
   ]
  },
  {
   "cell_type": "code",
   "execution_count": 3,
   "metadata": {},
   "outputs": [
    {
     "data": {
      "text/html": [
       "<div>\n",
       "<style scoped>\n",
       "    .dataframe tbody tr th:only-of-type {\n",
       "        vertical-align: middle;\n",
       "    }\n",
       "\n",
       "    .dataframe tbody tr th {\n",
       "        vertical-align: top;\n",
       "    }\n",
       "\n",
       "    .dataframe thead th {\n",
       "        text-align: right;\n",
       "    }\n",
       "</style>\n",
       "<table border=\"1\" class=\"dataframe\">\n",
       "  <thead>\n",
       "    <tr style=\"text-align: right;\">\n",
       "      <th></th>\n",
       "      <th>id</th>\n",
       "      <th>name</th>\n",
       "      <th>host_id</th>\n",
       "      <th>host_name</th>\n",
       "      <th>neighbourhood</th>\n",
       "      <th>latitude</th>\n",
       "      <th>longitude</th>\n",
       "      <th>room_type</th>\n",
       "      <th>price</th>\n",
       "      <th>minimum_nights</th>\n",
       "      <th>number_of_reviews</th>\n",
       "      <th>last_review</th>\n",
       "      <th>reviews_per_month</th>\n",
       "      <th>calculated_host_listings_count</th>\n",
       "      <th>availability_365</th>\n",
       "    </tr>\n",
       "  </thead>\n",
       "  <tbody>\n",
       "    <tr>\n",
       "      <th>0</th>\n",
       "      <td>6400</td>\n",
       "      <td>The Studio Milan</td>\n",
       "      <td>13822</td>\n",
       "      <td>Francesca</td>\n",
       "      <td>TIBALDI</td>\n",
       "      <td>45.44119</td>\n",
       "      <td>9.17813</td>\n",
       "      <td>Private room</td>\n",
       "      <td>100</td>\n",
       "      <td>4</td>\n",
       "      <td>12</td>\n",
       "      <td>19/04/10</td>\n",
       "      <td>0.14</td>\n",
       "      <td>1</td>\n",
       "      <td>358</td>\n",
       "    </tr>\n",
       "    <tr>\n",
       "      <th>1</th>\n",
       "      <td>23986</td>\n",
       "      <td>\" Characteristic Milanese flat\"</td>\n",
       "      <td>95941</td>\n",
       "      <td>Jeremy</td>\n",
       "      <td>NAVIGLI</td>\n",
       "      <td>45.44806</td>\n",
       "      <td>9.17373</td>\n",
       "      <td>Entire home/apt</td>\n",
       "      <td>150</td>\n",
       "      <td>1</td>\n",
       "      <td>15</td>\n",
       "      <td>07/09/20</td>\n",
       "      <td>0.21</td>\n",
       "      <td>1</td>\n",
       "      <td>363</td>\n",
       "    </tr>\n",
       "    <tr>\n",
       "      <th>2</th>\n",
       "      <td>28300</td>\n",
       "      <td>nice flat near the park</td>\n",
       "      <td>121663</td>\n",
       "      <td>Marta</td>\n",
       "      <td>SARPI</td>\n",
       "      <td>45.47647</td>\n",
       "      <td>9.17359</td>\n",
       "      <td>Private room</td>\n",
       "      <td>180</td>\n",
       "      <td>1</td>\n",
       "      <td>8</td>\n",
       "      <td>22/04/12</td>\n",
       "      <td>0.11</td>\n",
       "      <td>1</td>\n",
       "      <td>365</td>\n",
       "    </tr>\n",
       "    <tr>\n",
       "      <th>3</th>\n",
       "      <td>32119</td>\n",
       "      <td>Nico &amp; Cynthia's Easy Yellow Suite</td>\n",
       "      <td>138683</td>\n",
       "      <td>Nico&amp;Cinzia</td>\n",
       "      <td>VIALE MONZA</td>\n",
       "      <td>45.52014</td>\n",
       "      <td>9.22300</td>\n",
       "      <td>Entire home/apt</td>\n",
       "      <td>75</td>\n",
       "      <td>2</td>\n",
       "      <td>15</td>\n",
       "      <td>01/07/18</td>\n",
       "      <td>0.23</td>\n",
       "      <td>3</td>\n",
       "      <td>200</td>\n",
       "    </tr>\n",
       "    <tr>\n",
       "      <th>4</th>\n",
       "      <td>32649</td>\n",
       "      <td>Nico&amp;Cinzia's Red Easy Suite!</td>\n",
       "      <td>138683</td>\n",
       "      <td>Nico&amp;Cinzia</td>\n",
       "      <td>VIALE MONZA</td>\n",
       "      <td>45.51874</td>\n",
       "      <td>9.22495</td>\n",
       "      <td>Entire home/apt</td>\n",
       "      <td>71</td>\n",
       "      <td>2</td>\n",
       "      <td>29</td>\n",
       "      <td>23/10/16</td>\n",
       "      <td>0.71</td>\n",
       "      <td>3</td>\n",
       "      <td>308</td>\n",
       "    </tr>\n",
       "    <tr>\n",
       "      <th>5</th>\n",
       "      <td>37256</td>\n",
       "      <td>COZY FULLY FURNISHED PRIVATE STUDIO CITY CENTER</td>\n",
       "      <td>119002</td>\n",
       "      <td>Giancarlo</td>\n",
       "      <td>BUENOS AIRES - VENEZIA</td>\n",
       "      <td>45.46884</td>\n",
       "      <td>9.20777</td>\n",
       "      <td>Private room</td>\n",
       "      <td>55</td>\n",
       "      <td>2</td>\n",
       "      <td>34</td>\n",
       "      <td>13/05/19</td>\n",
       "      <td>0.49</td>\n",
       "      <td>2</td>\n",
       "      <td>0</td>\n",
       "    </tr>\n",
       "    <tr>\n",
       "      <th>6</th>\n",
       "      <td>40470</td>\n",
       "      <td>Giacinto Cosy &amp; clean flat near MM1</td>\n",
       "      <td>174203</td>\n",
       "      <td>Giacinto</td>\n",
       "      <td>VIALE MONZA</td>\n",
       "      <td>45.52023</td>\n",
       "      <td>9.22747</td>\n",
       "      <td>Entire home/apt</td>\n",
       "      <td>75</td>\n",
       "      <td>3</td>\n",
       "      <td>37</td>\n",
       "      <td>24/07/17</td>\n",
       "      <td>0.33</td>\n",
       "      <td>2</td>\n",
       "      <td>350</td>\n",
       "    </tr>\n",
       "    <tr>\n",
       "      <th>7</th>\n",
       "      <td>42732</td>\n",
       "      <td>Navigli near down town, linked Expo</td>\n",
       "      <td>186608</td>\n",
       "      <td>Francesco</td>\n",
       "      <td>MAGENTA - S. VITTORE</td>\n",
       "      <td>45.45814</td>\n",
       "      <td>9.17654</td>\n",
       "      <td>Entire home/apt</td>\n",
       "      <td>199</td>\n",
       "      <td>2</td>\n",
       "      <td>14</td>\n",
       "      <td>22/04/18</td>\n",
       "      <td>0.20</td>\n",
       "      <td>2</td>\n",
       "      <td>362</td>\n",
       "    </tr>\n",
       "    <tr>\n",
       "      <th>8</th>\n",
       "      <td>46536</td>\n",
       "      <td>Nico &amp; Cinzia's Pink Suite!</td>\n",
       "      <td>138683</td>\n",
       "      <td>Nico&amp;Cinzia</td>\n",
       "      <td>VIALE MONZA</td>\n",
       "      <td>45.52276</td>\n",
       "      <td>9.22478</td>\n",
       "      <td>Entire home/apt</td>\n",
       "      <td>76</td>\n",
       "      <td>2</td>\n",
       "      <td>27</td>\n",
       "      <td>03/07/18</td>\n",
       "      <td>0.23</td>\n",
       "      <td>3</td>\n",
       "      <td>150</td>\n",
       "    </tr>\n",
       "    <tr>\n",
       "      <th>9</th>\n",
       "      <td>55055</td>\n",
       "      <td>BEAUTIFUL MODERN ATTIC CENTER OF MI</td>\n",
       "      <td>246217</td>\n",
       "      <td>Cristina</td>\n",
       "      <td>BUENOS AIRES - VENEZIA</td>\n",
       "      <td>45.48096</td>\n",
       "      <td>9.21686</td>\n",
       "      <td>Entire home/apt</td>\n",
       "      <td>145</td>\n",
       "      <td>3</td>\n",
       "      <td>2</td>\n",
       "      <td>16/04/16</td>\n",
       "      <td>0.03</td>\n",
       "      <td>1</td>\n",
       "      <td>365</td>\n",
       "    </tr>\n",
       "  </tbody>\n",
       "</table>\n",
       "</div>"
      ],
      "text/plain": [
       "      id                                             name  host_id  \\\n",
       "0   6400                                 The Studio Milan    13822   \n",
       "1  23986                  \" Characteristic Milanese flat\"    95941   \n",
       "2  28300                          nice flat near the park   121663   \n",
       "3  32119               Nico & Cynthia's Easy Yellow Suite   138683   \n",
       "4  32649                    Nico&Cinzia's Red Easy Suite!   138683   \n",
       "5  37256  COZY FULLY FURNISHED PRIVATE STUDIO CITY CENTER   119002   \n",
       "6  40470              Giacinto Cosy & clean flat near MM1   174203   \n",
       "7  42732              Navigli near down town, linked Expo   186608   \n",
       "8  46536                      Nico & Cinzia's Pink Suite!   138683   \n",
       "9  55055              BEAUTIFUL MODERN ATTIC CENTER OF MI   246217   \n",
       "\n",
       "     host_name           neighbourhood  latitude  longitude        room_type  \\\n",
       "0    Francesca                 TIBALDI  45.44119    9.17813     Private room   \n",
       "1       Jeremy                 NAVIGLI  45.44806    9.17373  Entire home/apt   \n",
       "2        Marta                   SARPI  45.47647    9.17359     Private room   \n",
       "3  Nico&Cinzia             VIALE MONZA  45.52014    9.22300  Entire home/apt   \n",
       "4  Nico&Cinzia             VIALE MONZA  45.51874    9.22495  Entire home/apt   \n",
       "5    Giancarlo  BUENOS AIRES - VENEZIA  45.46884    9.20777     Private room   \n",
       "6     Giacinto             VIALE MONZA  45.52023    9.22747  Entire home/apt   \n",
       "7    Francesco    MAGENTA - S. VITTORE  45.45814    9.17654  Entire home/apt   \n",
       "8  Nico&Cinzia             VIALE MONZA  45.52276    9.22478  Entire home/apt   \n",
       "9     Cristina  BUENOS AIRES - VENEZIA  45.48096    9.21686  Entire home/apt   \n",
       "\n",
       "   price  minimum_nights  number_of_reviews last_review  reviews_per_month  \\\n",
       "0    100               4                 12    19/04/10               0.14   \n",
       "1    150               1                 15    07/09/20               0.21   \n",
       "2    180               1                  8    22/04/12               0.11   \n",
       "3     75               2                 15    01/07/18               0.23   \n",
       "4     71               2                 29    23/10/16               0.71   \n",
       "5     55               2                 34    13/05/19               0.49   \n",
       "6     75               3                 37    24/07/17               0.33   \n",
       "7    199               2                 14    22/04/18               0.20   \n",
       "8     76               2                 27    03/07/18               0.23   \n",
       "9    145               3                  2    16/04/16               0.03   \n",
       "\n",
       "   calculated_host_listings_count  availability_365  \n",
       "0                               1               358  \n",
       "1                               1               363  \n",
       "2                               1               365  \n",
       "3                               3               200  \n",
       "4                               3               308  \n",
       "5                               2                 0  \n",
       "6                               2               350  \n",
       "7                               2               362  \n",
       "8                               3               150  \n",
       "9                               1               365  "
      ]
     },
     "execution_count": 3,
     "metadata": {},
     "output_type": "execute_result"
    }
   ],
   "source": [
    "#Load the dataset\n",
    "housingData = pd.read_csv('data.csv')\n",
    "housingData.head(10)"
   ]
  },
  {
   "cell_type": "code",
   "execution_count": 4,
   "metadata": {},
   "outputs": [
    {
     "name": "stdout",
     "output_type": "stream",
     "text": [
      "Dataset Shape (rows x columns): (18322, 15)\n",
      "<class 'pandas.core.frame.DataFrame'>\n",
      "RangeIndex: 18322 entries, 0 to 18321\n",
      "Data columns (total 15 columns):\n",
      " #   Column                          Non-Null Count  Dtype  \n",
      "---  ------                          --------------  -----  \n",
      " 0   id                              18322 non-null  int64  \n",
      " 1   name                            18312 non-null  object \n",
      " 2   host_id                         18322 non-null  int64  \n",
      " 3   host_name                       18198 non-null  object \n",
      " 4   neighbourhood                   18322 non-null  object \n",
      " 5   latitude                        18322 non-null  float64\n",
      " 6   longitude                       18322 non-null  float64\n",
      " 7   room_type                       18322 non-null  object \n",
      " 8   price                           18322 non-null  int64  \n",
      " 9   minimum_nights                  18322 non-null  int64  \n",
      " 10  number_of_reviews               18322 non-null  int64  \n",
      " 11  last_review                     13260 non-null  object \n",
      " 12  reviews_per_month               13260 non-null  float64\n",
      " 13  calculated_host_listings_count  18322 non-null  int64  \n",
      " 14  availability_365                18322 non-null  int64  \n",
      "dtypes: float64(3), int64(7), object(5)\n",
      "memory usage: 2.1+ MB\n",
      "Dataset Info: None\n"
     ]
    }
   ],
   "source": [
    "print (f\"Dataset Shape (rows x columns): {housingData.shape}\")\n",
    "print (f\"Dataset Info: {housingData.info()}\")"
   ]
  },
  {
   "cell_type": "code",
   "execution_count": 5,
   "metadata": {},
   "outputs": [
    {
     "name": "stdout",
     "output_type": "stream",
     "text": [
      "<class 'pandas.core.frame.DataFrame'>\n",
      "RangeIndex: 18322 entries, 0 to 18321\n",
      "Data columns (total 9 columns):\n",
      " #   Column                          Non-Null Count  Dtype  \n",
      "---  ------                          --------------  -----  \n",
      " 0   neighbourhood                   18322 non-null  object \n",
      " 1   latitude                        18322 non-null  float64\n",
      " 2   longitude                       18322 non-null  float64\n",
      " 3   room_type                       18322 non-null  object \n",
      " 4   price                           18322 non-null  int64  \n",
      " 5   minimum_nights                  18322 non-null  int64  \n",
      " 6   number_of_reviews               18322 non-null  int64  \n",
      " 7   calculated_host_listings_count  18322 non-null  int64  \n",
      " 8   availability_365                18322 non-null  int64  \n",
      "dtypes: float64(2), int64(5), object(2)\n",
      "memory usage: 1.3+ MB\n"
     ]
    }
   ],
   "source": [
    "# Drop the unnecessary data (id, name, host_id, host_name, last_review, and reviews_per_month)\n",
    "housingData.drop(columns=[\"id\", \"name\", \"host_id\", \"host_name\", \"last_review\", \"reviews_per_month\"], inplace=True)\n",
    "housingData.info()"
   ]
  },
  {
   "cell_type": "code",
   "execution_count": 6,
   "metadata": {},
   "outputs": [
    {
     "name": "stdout",
     "output_type": "stream",
     "text": [
      "Unique values in neighbourhood: 87\n",
      "Unique values in latitude: 7419\n",
      "Unique values in longitude: 9134\n",
      "Unique values in room_type: 4\n",
      "Unique values in price: 465\n",
      "Unique values in minimum_nights: 68\n",
      "Unique values in number_of_reviews: 421\n",
      "Unique values in calculated_host_listings_count: 49\n",
      "Unique values in availability_365: 366\n"
     ]
    }
   ],
   "source": [
    "# List of columns to check for unique values\n",
    "columns_to_check = [\n",
    "    'neighbourhood', 'latitude', 'longitude', 'room_type',\n",
    "    'price', 'minimum_nights', 'number_of_reviews',\n",
    "    'calculated_host_listings_count', 'availability_365'\n",
    "]\n",
    "\n",
    "# Loop through the columns and print unique value counts\n",
    "for col in columns_to_check:\n",
    "    unique_count = housingData[col].nunique()\n",
    "    print(f\"Unique values in {col}: {unique_count}\")\n"
   ]
  },
  {
   "cell_type": "code",
   "execution_count": 7,
   "metadata": {},
   "outputs": [
    {
     "name": "stdout",
     "output_type": "stream",
     "text": [
      "Room type: ['Private room' 'Entire home/apt' 'Shared room' 'Hotel room']\n"
     ]
    }
   ],
   "source": [
    "# Check for unique values in 'room_type'\n",
    "print (f\"Room type: {housingData['room_type'].unique()}\")"
   ]
  },
  {
   "cell_type": "code",
   "execution_count": 8,
   "metadata": {},
   "outputs": [
    {
     "data": {
      "text/html": [
       "<div>\n",
       "<style scoped>\n",
       "    .dataframe tbody tr th:only-of-type {\n",
       "        vertical-align: middle;\n",
       "    }\n",
       "\n",
       "    .dataframe tbody tr th {\n",
       "        vertical-align: top;\n",
       "    }\n",
       "\n",
       "    .dataframe thead th {\n",
       "        text-align: right;\n",
       "    }\n",
       "</style>\n",
       "<table border=\"1\" class=\"dataframe\">\n",
       "  <thead>\n",
       "    <tr style=\"text-align: right;\">\n",
       "      <th></th>\n",
       "      <th>neighbourhood</th>\n",
       "      <th>latitude</th>\n",
       "      <th>longitude</th>\n",
       "      <th>room_type</th>\n",
       "      <th>price</th>\n",
       "      <th>minimum_nights</th>\n",
       "      <th>number_of_reviews</th>\n",
       "      <th>calculated_host_listings_count</th>\n",
       "      <th>availability_365</th>\n",
       "    </tr>\n",
       "  </thead>\n",
       "  <tbody>\n",
       "    <tr>\n",
       "      <th>12636</th>\n",
       "      <td>NAVIGLI</td>\n",
       "      <td>45.45132</td>\n",
       "      <td>9.17779</td>\n",
       "      <td>Entire home/apt</td>\n",
       "      <td>70</td>\n",
       "      <td>1</td>\n",
       "      <td>2</td>\n",
       "      <td>3</td>\n",
       "      <td>10</td>\n",
       "    </tr>\n",
       "    <tr>\n",
       "      <th>6504</th>\n",
       "      <td>WASHINGTON</td>\n",
       "      <td>45.46233</td>\n",
       "      <td>9.15987</td>\n",
       "      <td>Entire home/apt</td>\n",
       "      <td>60</td>\n",
       "      <td>4</td>\n",
       "      <td>24</td>\n",
       "      <td>1</td>\n",
       "      <td>360</td>\n",
       "    </tr>\n",
       "    <tr>\n",
       "      <th>13481</th>\n",
       "      <td>CENTRALE</td>\n",
       "      <td>45.48782</td>\n",
       "      <td>9.20120</td>\n",
       "      <td>Entire home/apt</td>\n",
       "      <td>58</td>\n",
       "      <td>1</td>\n",
       "      <td>12</td>\n",
       "      <td>1</td>\n",
       "      <td>245</td>\n",
       "    </tr>\n",
       "    <tr>\n",
       "      <th>5765</th>\n",
       "      <td>TORTONA</td>\n",
       "      <td>45.45315</td>\n",
       "      <td>9.16696</td>\n",
       "      <td>Entire home/apt</td>\n",
       "      <td>63</td>\n",
       "      <td>3</td>\n",
       "      <td>82</td>\n",
       "      <td>1</td>\n",
       "      <td>14</td>\n",
       "    </tr>\n",
       "    <tr>\n",
       "      <th>9794</th>\n",
       "      <td>GUASTALLA</td>\n",
       "      <td>45.45514</td>\n",
       "      <td>9.20163</td>\n",
       "      <td>Private room</td>\n",
       "      <td>70</td>\n",
       "      <td>2</td>\n",
       "      <td>10</td>\n",
       "      <td>1</td>\n",
       "      <td>0</td>\n",
       "    </tr>\n",
       "    <tr>\n",
       "      <th>6008</th>\n",
       "      <td>BUENOS AIRES - VENEZIA</td>\n",
       "      <td>45.47090</td>\n",
       "      <td>9.21388</td>\n",
       "      <td>Entire home/apt</td>\n",
       "      <td>170</td>\n",
       "      <td>2</td>\n",
       "      <td>3</td>\n",
       "      <td>1</td>\n",
       "      <td>0</td>\n",
       "    </tr>\n",
       "    <tr>\n",
       "      <th>7254</th>\n",
       "      <td>DUOMO</td>\n",
       "      <td>45.46413</td>\n",
       "      <td>9.18119</td>\n",
       "      <td>Entire home/apt</td>\n",
       "      <td>10</td>\n",
       "      <td>1</td>\n",
       "      <td>0</td>\n",
       "      <td>161</td>\n",
       "      <td>0</td>\n",
       "    </tr>\n",
       "    <tr>\n",
       "      <th>5520</th>\n",
       "      <td>GHISOLFA</td>\n",
       "      <td>45.48834</td>\n",
       "      <td>9.15620</td>\n",
       "      <td>Entire home/apt</td>\n",
       "      <td>50</td>\n",
       "      <td>7</td>\n",
       "      <td>37</td>\n",
       "      <td>1</td>\n",
       "      <td>89</td>\n",
       "    </tr>\n",
       "    <tr>\n",
       "      <th>10677</th>\n",
       "      <td>BAGGIO</td>\n",
       "      <td>45.46786</td>\n",
       "      <td>9.09412</td>\n",
       "      <td>Entire home/apt</td>\n",
       "      <td>37</td>\n",
       "      <td>3</td>\n",
       "      <td>6</td>\n",
       "      <td>2</td>\n",
       "      <td>177</td>\n",
       "    </tr>\n",
       "    <tr>\n",
       "      <th>17238</th>\n",
       "      <td>TICINESE</td>\n",
       "      <td>45.44420</td>\n",
       "      <td>9.18109</td>\n",
       "      <td>Entire home/apt</td>\n",
       "      <td>80</td>\n",
       "      <td>1</td>\n",
       "      <td>0</td>\n",
       "      <td>4</td>\n",
       "      <td>364</td>\n",
       "    </tr>\n",
       "    <tr>\n",
       "      <th>14017</th>\n",
       "      <td>PADOVA</td>\n",
       "      <td>45.50433</td>\n",
       "      <td>9.24275</td>\n",
       "      <td>Private room</td>\n",
       "      <td>80</td>\n",
       "      <td>2</td>\n",
       "      <td>0</td>\n",
       "      <td>4</td>\n",
       "      <td>90</td>\n",
       "    </tr>\n",
       "    <tr>\n",
       "      <th>5779</th>\n",
       "      <td>MAGENTA - S. VITTORE</td>\n",
       "      <td>45.45765</td>\n",
       "      <td>9.17468</td>\n",
       "      <td>Entire home/apt</td>\n",
       "      <td>79</td>\n",
       "      <td>2</td>\n",
       "      <td>198</td>\n",
       "      <td>1</td>\n",
       "      <td>188</td>\n",
       "    </tr>\n",
       "    <tr>\n",
       "      <th>5346</th>\n",
       "      <td>BUENOS AIRES - VENEZIA</td>\n",
       "      <td>45.47442</td>\n",
       "      <td>9.21187</td>\n",
       "      <td>Entire home/apt</td>\n",
       "      <td>100</td>\n",
       "      <td>2</td>\n",
       "      <td>2</td>\n",
       "      <td>1</td>\n",
       "      <td>364</td>\n",
       "    </tr>\n",
       "    <tr>\n",
       "      <th>5842</th>\n",
       "      <td>WASHINGTON</td>\n",
       "      <td>45.46549</td>\n",
       "      <td>9.16272</td>\n",
       "      <td>Entire home/apt</td>\n",
       "      <td>87</td>\n",
       "      <td>2</td>\n",
       "      <td>46</td>\n",
       "      <td>1</td>\n",
       "      <td>0</td>\n",
       "    </tr>\n",
       "    <tr>\n",
       "      <th>11720</th>\n",
       "      <td>PADOVA</td>\n",
       "      <td>45.49592</td>\n",
       "      <td>9.22747</td>\n",
       "      <td>Entire home/apt</td>\n",
       "      <td>200</td>\n",
       "      <td>4</td>\n",
       "      <td>0</td>\n",
       "      <td>1</td>\n",
       "      <td>88</td>\n",
       "    </tr>\n",
       "    <tr>\n",
       "      <th>3359</th>\n",
       "      <td>BUENOS AIRES - VENEZIA</td>\n",
       "      <td>45.47631</td>\n",
       "      <td>9.20929</td>\n",
       "      <td>Entire home/apt</td>\n",
       "      <td>115</td>\n",
       "      <td>1</td>\n",
       "      <td>16</td>\n",
       "      <td>6</td>\n",
       "      <td>196</td>\n",
       "    </tr>\n",
       "    <tr>\n",
       "      <th>10133</th>\n",
       "      <td>XXII MARZO</td>\n",
       "      <td>45.46081</td>\n",
       "      <td>9.20911</td>\n",
       "      <td>Entire home/apt</td>\n",
       "      <td>75</td>\n",
       "      <td>2</td>\n",
       "      <td>17</td>\n",
       "      <td>3</td>\n",
       "      <td>30</td>\n",
       "    </tr>\n",
       "    <tr>\n",
       "      <th>10180</th>\n",
       "      <td>TICINESE</td>\n",
       "      <td>45.44594</td>\n",
       "      <td>9.17937</td>\n",
       "      <td>Private room</td>\n",
       "      <td>55</td>\n",
       "      <td>1</td>\n",
       "      <td>1</td>\n",
       "      <td>1</td>\n",
       "      <td>0</td>\n",
       "    </tr>\n",
       "    <tr>\n",
       "      <th>11525</th>\n",
       "      <td>XXII MARZO</td>\n",
       "      <td>45.45803</td>\n",
       "      <td>9.21385</td>\n",
       "      <td>Entire home/apt</td>\n",
       "      <td>89</td>\n",
       "      <td>2</td>\n",
       "      <td>2</td>\n",
       "      <td>42</td>\n",
       "      <td>9</td>\n",
       "    </tr>\n",
       "    <tr>\n",
       "      <th>15884</th>\n",
       "      <td>QUARTO OGGIARO</td>\n",
       "      <td>45.51937</td>\n",
       "      <td>9.13293</td>\n",
       "      <td>Entire home/apt</td>\n",
       "      <td>60</td>\n",
       "      <td>1</td>\n",
       "      <td>0</td>\n",
       "      <td>4</td>\n",
       "      <td>350</td>\n",
       "    </tr>\n",
       "  </tbody>\n",
       "</table>\n",
       "</div>"
      ],
      "text/plain": [
       "                neighbourhood  latitude  longitude        room_type  price  \\\n",
       "12636                 NAVIGLI  45.45132    9.17779  Entire home/apt     70   \n",
       "6504               WASHINGTON  45.46233    9.15987  Entire home/apt     60   \n",
       "13481                CENTRALE  45.48782    9.20120  Entire home/apt     58   \n",
       "5765                  TORTONA  45.45315    9.16696  Entire home/apt     63   \n",
       "9794                GUASTALLA  45.45514    9.20163     Private room     70   \n",
       "6008   BUENOS AIRES - VENEZIA  45.47090    9.21388  Entire home/apt    170   \n",
       "7254                    DUOMO  45.46413    9.18119  Entire home/apt     10   \n",
       "5520                 GHISOLFA  45.48834    9.15620  Entire home/apt     50   \n",
       "10677                  BAGGIO  45.46786    9.09412  Entire home/apt     37   \n",
       "17238                TICINESE  45.44420    9.18109  Entire home/apt     80   \n",
       "14017                  PADOVA  45.50433    9.24275     Private room     80   \n",
       "5779     MAGENTA - S. VITTORE  45.45765    9.17468  Entire home/apt     79   \n",
       "5346   BUENOS AIRES - VENEZIA  45.47442    9.21187  Entire home/apt    100   \n",
       "5842               WASHINGTON  45.46549    9.16272  Entire home/apt     87   \n",
       "11720                  PADOVA  45.49592    9.22747  Entire home/apt    200   \n",
       "3359   BUENOS AIRES - VENEZIA  45.47631    9.20929  Entire home/apt    115   \n",
       "10133              XXII MARZO  45.46081    9.20911  Entire home/apt     75   \n",
       "10180                TICINESE  45.44594    9.17937     Private room     55   \n",
       "11525              XXII MARZO  45.45803    9.21385  Entire home/apt     89   \n",
       "15884          QUARTO OGGIARO  45.51937    9.13293  Entire home/apt     60   \n",
       "\n",
       "       minimum_nights  number_of_reviews  calculated_host_listings_count  \\\n",
       "12636               1                  2                               3   \n",
       "6504                4                 24                               1   \n",
       "13481               1                 12                               1   \n",
       "5765                3                 82                               1   \n",
       "9794                2                 10                               1   \n",
       "6008                2                  3                               1   \n",
       "7254                1                  0                             161   \n",
       "5520                7                 37                               1   \n",
       "10677               3                  6                               2   \n",
       "17238               1                  0                               4   \n",
       "14017               2                  0                               4   \n",
       "5779                2                198                               1   \n",
       "5346                2                  2                               1   \n",
       "5842                2                 46                               1   \n",
       "11720               4                  0                               1   \n",
       "3359                1                 16                               6   \n",
       "10133               2                 17                               3   \n",
       "10180               1                  1                               1   \n",
       "11525               2                  2                              42   \n",
       "15884               1                  0                               4   \n",
       "\n",
       "       availability_365  \n",
       "12636                10  \n",
       "6504                360  \n",
       "13481               245  \n",
       "5765                 14  \n",
       "9794                  0  \n",
       "6008                  0  \n",
       "7254                  0  \n",
       "5520                 89  \n",
       "10677               177  \n",
       "17238               364  \n",
       "14017                90  \n",
       "5779                188  \n",
       "5346                364  \n",
       "5842                  0  \n",
       "11720                88  \n",
       "3359                196  \n",
       "10133                30  \n",
       "10180                 0  \n",
       "11525                 9  \n",
       "15884               350  "
      ]
     },
     "execution_count": 8,
     "metadata": {},
     "output_type": "execute_result"
    }
   ],
   "source": [
    "# Show the final DataFrame\n",
    "housingData.sample(20)"
   ]
  },
  {
   "cell_type": "markdown",
   "metadata": {},
   "source": [
    "### *2. Exploratory Data Analysis (EDA)*"
   ]
  },
  {
   "cell_type": "code",
   "execution_count": 9,
   "metadata": {},
   "outputs": [],
   "source": [
    "def get_outliers(data, column):\n",
    "    first_quartile = data[column].quantile(0.25)\n",
    "    median = data[column].median()\n",
    "    third_quartile = data[column].quantile(0.75)\n",
    "    iqr = third_quartile - first_quartile\n",
    "    lower_bound = first_quartile - 1.5 * iqr\n",
    "    upper_bound = third_quartile + 1.5 * iqr\n",
    "    outliers = data[(data[column] < lower_bound) | (data[column] > upper_bound)]\n",
    "    print (f\"Lower bound: {lower_bound}\")\n",
    "    print (f\"Median: {median}\")\n",
    "    print (f\"Upper bound: {upper_bound}\")\n",
    "    print(f\"Number of outliers in {column}: {outliers.shape[0]}\")"
   ]
  },
  {
   "cell_type": "markdown",
   "metadata": {},
   "source": [
    "**a. Distribution Analysis**"
   ]
  },
  {
   "cell_type": "code",
   "execution_count": 10,
   "metadata": {},
   "outputs": [
    {
     "data": {
      "text/plain": [
       "<Axes: title={'center': 'Price Distribution'}, xlabel='Price'>"
      ]
     },
     "execution_count": 10,
     "metadata": {},
     "output_type": "execute_result"
    },
    {
     "data": {
      "image/png": "[encoded data removed]",
      "text/plain": [
       "<Figure size 1200x800 with 1 Axes>"
      ]
     },
     "metadata": {},
     "output_type": "display_data"
    }
   ],
   "source": [
    "# Find the price distribution\n",
    "sb.set_style('whitegrid')\n",
    "\n",
    "plt.figure(figsize=(12, 8))\n",
    "plt.title('Price Distribution')\n",
    "plt.xlabel('Price')\n",
    "sb.boxplot(data=housingData[\"price\"], orient='h')"
   ]
  },
  {
   "cell_type": "code",
   "execution_count": 11,
   "metadata": {},
   "outputs": [
    {
     "name": "stdout",
     "output_type": "stream",
     "text": [
      "Lower bound: -40.0\n",
      "Median: 73.5\n",
      "Upper bound: 200.0\n",
      "Number of outliers in price: 1595\n",
      "Number of price that below zero: 0\n"
     ]
    }
   ],
   "source": [
    "# Check for outliers in the 'price' column\n",
    "get_outliers(housingData, \"price\")\n",
    "print(f\"Number of price that below zero: {housingData[housingData['price'] < 0].shape[0]}\")\n",
    "\n"
   ]
  },
  {
   "cell_type": "markdown",
   "metadata": {},
   "source": [
    "> Based on the price distribution, we can conclude that the dataset contain a quite high variace in price distribution as can be seen from the amount of outliers. However, we decide to not remove it since it can be the \"true outliers\". According to the internet, we can found any kind of airbnb with many variance in price depending on the size and location. Therefore, it is make sense if we keep the data that higher than the upper bound."
   ]
  },
  {
   "cell_type": "code",
   "execution_count": 12,
   "metadata": {},
   "outputs": [
    {
     "data": {
      "text/plain": [
       "<Axes: title={'center': 'Number of Reviews Distribution'}, xlabel='Number of Reviews'>"
      ]
     },
     "execution_count": 12,
     "metadata": {},
     "output_type": "execute_result"
    },
    {
     "data": {
      "image/png": "[encoded data removed]",
      "text/plain": [
       "<Figure size 1200x800 with 1 Axes>"
      ]
     },
     "metadata": {},
     "output_type": "display_data"
    }
   ],
   "source": [
    "# Find the numvber of review distribution\n",
    "sb.set_style('whitegrid')\n",
    "\n",
    "plt.figure(figsize=(12, 8))\n",
    "plt.title('Number of Reviews Distribution')\n",
    "plt.xlabel('Number of Reviews')\n",
    "sb.boxplot(data=housingData[\"number_of_reviews\"], orient='h')"
   ]
  },
  {
   "cell_type": "code",
   "execution_count": 13,
   "metadata": {},
   "outputs": [
    {
     "name": "stdout",
     "output_type": "stream",
     "text": [
      "Lower bound: -28.5\n",
      "Median: 3.0\n",
      "Upper bound: 47.5\n",
      "Number of outliers in number_of_reviews: 2403\n",
      "Number of reviews that below zero: 0\n"
     ]
    }
   ],
   "source": [
    "get_outliers(housingData, \"number_of_reviews\")\n",
    "print(f\"Number of reviews that below zero: {housingData[housingData['number_of_reviews'] < 0].shape[0]}\")"
   ]
  },
  {
   "cell_type": "markdown",
   "metadata": {},
   "source": [
    "> With the same reason as before, the variation on number of reviews may happen depending on the amount of customer who are willing to fill the review. Intuitively, airbnb that have more customers will have more number of reviews. That's why, we won't remove the outliers."
   ]
  },
  {
   "cell_type": "code",
   "execution_count": 14,
   "metadata": {},
   "outputs": [
    {
     "data": {
      "text/plain": [
       "<Axes: title={'center': 'Minimum Nights Distribution'}, xlabel='Minimum Nights'>"
      ]
     },
     "execution_count": 14,
     "metadata": {},
     "output_type": "execute_result"
    },
    {
     "data": {
      "image/png": "[encoded data removed]",
      "text/plain": [
       "<Figure size 1200x800 with 1 Axes>"
      ]
     },
     "metadata": {},
     "output_type": "display_data"
    }
   ],
   "source": [
    "# Find the minimum nights distribution\n",
    "sb.set_style('whitegrid')\n",
    "\n",
    "plt.figure(figsize=(12, 8))\n",
    "plt.title('Minimum Nights Distribution')\n",
    "plt.xlabel('Minimum Nights')\n",
    "sb.boxplot(data=housingData[\"minimum_nights\"], orient='h')"
   ]
  },
  {
   "cell_type": "code",
   "execution_count": 15,
   "metadata": {},
   "outputs": [
    {
     "name": "stdout",
     "output_type": "stream",
     "text": [
      "Lower bound: -2.0\n",
      "Median: 2.0\n",
      "Upper bound: 6.0\n",
      "Number of outliers in minimum_nights: 1876\n",
      "Number of minimum nights that below zero: 0\n"
     ]
    }
   ],
   "source": [
    "get_outliers(housingData, \"minimum_nights\")\n",
    "print(f\"Number of minimum nights that below zero: {housingData[housingData['minimum_nights'] < 0].shape[0]}\")"
   ]
  },
  {
   "cell_type": "code",
   "execution_count": 16,
   "metadata": {},
   "outputs": [],
   "source": [
    "# Remove outliers from the dataset\n",
    "housingData  = housingData[housingData[\"minimum_nights\"] < 7]"
   ]
  },
  {
   "cell_type": "markdown",
   "metadata": {},
   "source": [
    "> For the minimum night, we decide to remove the outliers since it is quite rare to find an airbnb that demand the customer to stay for more than one week. This decision is taken after we did research on several airbnb platform that provide rent in Milan. "
   ]
  },
  {
   "cell_type": "markdown",
   "metadata": {},
   "source": [
    "**b. Geographic Analysis**"
   ]
  },
  {
   "cell_type": "code",
   "execution_count": 18,
   "metadata": {},
   "outputs": [
    {
     "name": "stdout",
     "output_type": "stream",
     "text": [
      "Looking in indexes: https://pypi.org/simple, https://pypi.ngc.nvidia.com\n",
      "Requirement already satisfied: folium in c:\\users\\asus\\anaconda3\\lib\\site-packages (0.19.5)\n",
      "Requirement already satisfied: branca>=0.6.0 in c:\\users\\asus\\anaconda3\\lib\\site-packages (from folium) (0.8.1)\n",
      "Requirement already satisfied: jinja2>=2.9 in c:\\users\\asus\\anaconda3\\lib\\site-packages (from folium) (3.1.4)\n",
      "Requirement already satisfied: numpy in c:\\users\\asus\\anaconda3\\lib\\site-packages (from folium) (1.26.4)\n",
      "Requirement already satisfied: requests in c:\\users\\asus\\anaconda3\\lib\\site-packages (from folium) (2.32.3)\n",
      "Requirement already satisfied: xyzservices in c:\\users\\asus\\anaconda3\\lib\\site-packages (from folium) (2022.9.0)\n",
      "Requirement already satisfied: MarkupSafe>=2.0 in c:\\users\\asus\\anaconda3\\lib\\site-packages (from jinja2>=2.9->folium) (2.1.3)\n",
      "Requirement already satisfied: charset-normalizer<4,>=2 in c:\\users\\asus\\anaconda3\\lib\\site-packages (from requests->folium) (3.3.2)\n",
      "Requirement already satisfied: idna<4,>=2.5 in c:\\users\\asus\\anaconda3\\lib\\site-packages (from requests->folium) (3.7)\n",
      "Requirement already satisfied: urllib3<3,>=1.21.1 in c:\\users\\asus\\anaconda3\\lib\\site-packages (from requests->folium) (1.26.20)\n",
      "Requirement already satisfied: certifi>=2017.4.17 in c:\\users\\asus\\anaconda3\\lib\\site-packages (from requests->folium) (2024.12.14)\n"
     ]
    },
    {
     "ename": "ModuleNotFoundError",
     "evalue": "No module named 'folium'",
     "output_type": "error",
     "traceback": [
      "\u001b[1;31m---------------------------------------------------------------------------\u001b[0m",
      "\u001b[1;31mModuleNotFoundError\u001b[0m                       Traceback (most recent call last)",
      "Cell \u001b[1;32mIn[18], line 2\u001b[0m\n\u001b[0;32m      1\u001b[0m get_ipython()\u001b[38;5;241m.\u001b[39msystem(\u001b[38;5;124m'\u001b[39m\u001b[38;5;124m pip install folium\u001b[39m\u001b[38;5;124m'\u001b[39m)\n\u001b[1;32m----> 2\u001b[0m \u001b[38;5;28;01mimport\u001b[39;00m \u001b[38;5;21;01mfolium\u001b[39;00m\n",
      "\u001b[1;31mModuleNotFoundError\u001b[0m: No module named 'folium'"
     ]
    }
   ],
   "source": [
    "! pip install folium\n",
    "import folium"
   ]
  },
  {
   "cell_type": "code",
   "execution_count": 17,
   "metadata": {},
   "outputs": [
    {
     "ename": "ModuleNotFoundError",
     "evalue": "No module named 'folium'",
     "output_type": "error",
     "traceback": [
      "\u001b[1;31m---------------------------------------------------------------------------\u001b[0m",
      "\u001b[1;31mModuleNotFoundError\u001b[0m                       Traceback (most recent call last)",
      "Cell \u001b[1;32mIn[17], line 2\u001b[0m\n\u001b[0;32m      1\u001b[0m \u001b[38;5;28;01mfrom\u001b[39;00m \u001b[38;5;21;01mmatplotlib\u001b[39;00m\u001b[38;5;21;01m.\u001b[39;00m\u001b[38;5;21;01mcolors\u001b[39;00m \u001b[38;5;28;01mimport\u001b[39;00m LinearSegmentedColormap\n\u001b[1;32m----> 2\u001b[0m \u001b[38;5;28;01mimport\u001b[39;00m \u001b[38;5;21;01mfolium\u001b[39;00m\n\u001b[0;32m      3\u001b[0m \u001b[38;5;28;01mfrom\u001b[39;00m \u001b[38;5;21;01mfolium\u001b[39;00m\u001b[38;5;21;01m.\u001b[39;00m\u001b[38;5;21;01mplugins\u001b[39;00m \u001b[38;5;28;01mimport\u001b[39;00m HeatMap, MarkerCluster\n\u001b[0;32m      4\u001b[0m \u001b[38;5;28;01mimport\u001b[39;00m \u001b[38;5;21;01mplotly\u001b[39;00m\u001b[38;5;21;01m.\u001b[39;00m\u001b[38;5;21;01mexpress\u001b[39;00m \u001b[38;5;28;01mas\u001b[39;00m \u001b[38;5;21;01mpx\u001b[39;00m\n",
      "\u001b[1;31mModuleNotFoundError\u001b[0m: No module named 'folium'"
     ]
    }
   ],
   "source": [
    "from matplotlib.colors import LinearSegmentedColormap\n",
    "import folium\n",
    "from folium.plugins import HeatMap, MarkerCluster\n",
    "import plotly.express as px\n",
    "import plotly.graph_objects as go\n",
    "from plotly.subplots import make_subplots\n",
    "from scipy import stats"
   ]
  }
 ],
 "metadata": {
  "kernelspec": {
   "display_name": "base",
   "language": "python",
   "name": "python3"
  },
  "language_info": {
   "codemirror_mode": {
    "name": "ipython",
    "version": 3
   },
   "file_extension": ".py",
   "mimetype": "text/x-python",
   "name": "python",
   "nbconvert_exporter": "python",
   "pygments_lexer": "ipython3",
   "version": "3.12.7"
  }
 },
 "nbformat": 4,
 "nbformat_minor": 2
}
